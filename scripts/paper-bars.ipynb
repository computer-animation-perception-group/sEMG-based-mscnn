{
 "cells": [
  {
   "cell_type": "code",
   "execution_count": 3,
   "metadata": {
    "collapsed": true
   },
   "outputs": [],
   "source": [
    "from __future__ import division, print_function\n",
    "import matplotlib.pyplot as plt\n",
    "%matplotlib inline\n",
    "import numpy as np\n",
    "import os\n",
    "import pandas as pd\n",
    "\n",
    "\n",
    "figroot = '../cache/figures'\n",
    "if not os.path.isdir(figroot):\n",
    "    os.makedirs(figroot)\n",
    "    \n",
    "    \n",
    "def googlecolors_orig():\n",
    "    blue = np.array([66, 133, 244]) / 255\n",
    "    red = np.array([219, 68, 55]) / 255\n",
    "    yellow = np.array([244, 180, 0]) / 255\n",
    "    green = np.array([15, 157, 88]) / 255\n",
    "    grey = np.array([101, 101, 101]) / 255\n",
    "    return [blue, red, yellow, green, grey]\n",
    "\n",
    "\n",
    "def googlecolors():\n",
    "    return ['#2196F3', '#F44336', '#CDDC39', '#4CAF50', '#00BCD4', '#9E9E9E']\n",
    "\n",
    "\n",
    "def plot_bars(mean, std, db, clf, color=googlecolors(), ymax=100, figsize=(8, 4.5), legend=True):\n",
    "    '''\n",
    "    Like \"Self-Control in Decision-Making Involves Modulation of the vmPFC Valuation System\n",
    "    '''\n",
    "    mean = np.asarray(mean)\n",
    "    std = np.asarray(std)\n",
    "    \n",
    "    margin = len(clf) + 1\n",
    "    width = 1\n",
    "\n",
    "    # Grid\n",
    "    plt.gca().yaxis.grid()\n",
    "    plt.gca().set_axisbelow(True)\n",
    "    \n",
    "    for i in range(len(clf)):\n",
    "        plt.bar(\n",
    "            i + margin * np.arange(len(db)), mean[:, i], yerr=std[:, i], width=width,\n",
    "            color=color[i], ecolor='black', edgecolor='black', label=clf[i]\n",
    "        )\n",
    "\n",
    "    # Remove frames\n",
    "    ax = plt.gca()\n",
    "    ax.spines[\"top\"].set_visible(False)\n",
    "    ax.spines[\"right\"].set_visible(False)\n",
    "    ax.spines[\"bottom\"].set_visible(False)\n",
    "    #ax.spines[\"left\"].set_visible(False)\n",
    "    ax.tick_params(axis='y', direction='out', size=2)\n",
    "\n",
    "    plt.xticks(len(clf) / 2 + margin * np.arange(len(db)), db)\n",
    "    plt.xlim(-0.6, len(db) * (len(clf) + 1) - 0.8)\n",
    "    plt.ylim(0, ymax)\n",
    "    plt.tick_params(top='off', right='off', bottom='off')\n",
    "    plt.ylabel('Recognition accuracy (%)')\n",
    "    if legend:\n",
    "        plt.legend(loc='upper right', fontsize='small').get_frame().set_linewidth(0)\n",
    "    # 16:9\n",
    "    if figsize:\n",
    "        plt.gcf().set_size_inches(*figsize)"
   ]
  },
  {
   "cell_type": "markdown",
   "metadata": {},
   "source": [
    "## Intra-subject"
   ]
  },
  {
   "cell_type": "code",
   "execution_count": 2,
   "metadata": {
    "collapsed": false
   },
   "outputs": [
    {
     "name": "stderr",
     "output_type": "stream",
     "text": [
      "/mnt/answeror/anaconda2/envs/deepsemg/lib/python2.7/site-packages/matplotlib/collections.py:590: FutureWarning: elementwise comparison failed; returning scalar instead, but in the future will perform elementwise comparison\n",
      "  if self._edgecolors == str('face'):\n"
     ]
    },
    {
     "data": {
      "image/png": "[encoded data removed]",
      "text/plain": [
       "<matplotlib.figure.Figure at 0x7f695818ee50>"
      ]
     },
     "metadata": {},
     "output_type": "display_data"
    }
   ],
   "source": [
    "plot_bars(\n",
    "    [[89.17, 60.29, 40.02, 16.03, 61.04, 17.10],\n",
    "     [78.90, 71.05, 71.59, 70.12, 75.11, 63.75],\n",
    "     [37.47, 16.46, 29.30, 16.26, 28.78, 16.39]],\n",
    "    [[ 5.11,  7.28,  5.44,  4.20, 10.32,  4.00],\n",
    "     [ 5.05,  7.00,  6.75,  7.24,  5.90,  6.41],\n",
    "     [ 7.21,  3.15,  6.36,  3.08,  7.75,  3.00]],\n",
    "    ['Experiment 2 (DB-a)', 'Experiment 1 (DB1)', 'Experiment 1 (DB2)'],\n",
    "    ['ConvNets', 'MLP', 'KNN', 'SVM', 'Random Forests', 'LDA']\n",
    ")\n",
    "#plt.savefig('../cache/figures/intra.png', dpi=300, bbox_inches='tight', pad_inches=0)"
   ]
  },
  {
   "cell_type": "code",
   "execution_count": 2,
   "metadata": {
    "collapsed": false
   },
   "outputs": [
    {
     "name": "stderr",
     "output_type": "stream",
     "text": [
      "/mnt/answeror/anaconda2/envs/deepsemg/lib/python2.7/site-packages/matplotlib/collections.py:590: FutureWarning: elementwise comparison failed; returning scalar instead, but in the future will perform elementwise comparison\n",
      "  if self._edgecolors == str('face'):\n"
     ]
    },
    {
     "data": {
      "image/png": "[encoded data removed]",
      "text/plain": [
       "<matplotlib.figure.Figure at 0x7f04ed3bb9d0>"
      ]
     },
     "metadata": {},
     "output_type": "display_data"
    }
   ],
   "source": [
    "#plt.rc('font', family='Times New Roman')\n",
    "plt.rc('font', family='Helvetica', size='7')\n",
    "plot_bars(\n",
    "    [[78.90, 71.05, 71.59, 70.12, 75.11, 63.75],\n",
    "     [37.47, 16.46, 29.30, 16.26, 28.78, 16.39],\n",
    "     [89.17, 60.29, 40.02, 16.03, 61.04, 17.10],\n",
    "     [30.5, 28.3, 21.0, 14.1, 25.0, 13.8],\n",
    "     [38.3, 30.5, 23.2, 12.7, 29.1, 12.5]],\n",
    "    [[ 7.21,  3.15,  6.36,  3.08,  7.75,  3.00],\n",
    "     [ 5.11,  7.28,  5.44,  4.20, 10.32,  4.00],\n",
    "     [ 5.05,  7.00,  6.75,  7.24,  5.90,  6.41],\n",
    "     [7.9, 7.3, 3.5, 1.0, 3.4, 1.1],\n",
    "     [12.1, 8.7, 7.2, 1.3, 8.3, 0.9]],\n",
    "    map(lambda s: 'Experiment ' + s, ['1 (DB1)', '1 (DB2)', '2', '3', '4']),\n",
    "    ['ConvNet', 'MLP', 'KNN', 'SVM', 'Random Forests', 'LDA'],\n",
    "    figsize=(7.20472, 7.20472/2)\n",
    ")\n",
    "plt.savefig('../cache/figures/bar.eps', dpi=150, bbox_inches='tight', pad_inches=0.05)"
   ]
  },
  {
   "cell_type": "code",
   "execution_count": 5,
   "metadata": {
    "collapsed": false
   },
   "outputs": [
    {
     "data": {
      "image/png": "[encoded data removed]",
      "text/plain": [
       "<matplotlib.figure.Figure at 0x7f22d5776650>"
      ]
     },
     "metadata": {},
     "output_type": "display_data"
    }
   ],
   "source": [
    "#plt.rc('font', family='Times New Roman')\n",
    "plt.rc('font', family='Helvetica', size='7')\n",
    "plot_bars(\n",
    "    [[78.90, 71.05, 71.59, 70.12, 75.11, 63.75],\n",
    "     [37.47, 16.46, 29.30, 16.26, 28.78, 16.39],\n",
    "     [36.7, 16.4, 29.9, 16.3, 25.3, 31.9],\n",
    "     [89.17, 60.29, 40.02, 16.03, 61.04, 17.10],\n",
    "     [30.5, 28.3, 21.0, 14.1, 25.0, 13.8],\n",
    "     [38.3, 30.5, 23.2, 12.7, 29.1, 12.5]],\n",
    "    [[ 7.21,  3.15,  6.36,  3.08,  7.75,  3.00],\n",
    "     [ 5.11,  7.28,  5.44,  4.20, 10.32,  4.00],\n",
    "     [7.1, 3.2, 6.8, 3.1, 7.2, 5.7],\n",
    "     [ 5.05,  7.00,  6.75,  7.24,  5.90,  6.41],\n",
    "     [7.9, 7.3, 3.5, 1.0, 3.4, 1.1],\n",
    "     [12.1, 8.7, 7.2, 1.3, 8.3, 0.9]],\n",
    "    map(lambda s: 'Exp ' + s, ['1 (DB1)', '1 (DB2)', '1 (DB2 rectified)', '2', '3', '4']),\n",
    "    ['ConvNet', 'MLP', 'KNN', 'SVM', 'Random Forests', 'LDA'],\n",
    "    figsize=(7.20472, 7.20472/2)\n",
    ")\n",
    "plt.savefig('../cache/figures/bar-with-db2-rectified.png', dpi=150, bbox_inches='tight', pad_inches=0.05)"
   ]
  },
  {
   "cell_type": "code",
   "execution_count": 6,
   "metadata": {
    "collapsed": false
   },
   "outputs": [
    {
     "data": {
      "image/png": "[encoded data removed]",
      "text/plain": [
       "<matplotlib.figure.Figure at 0x7faa5e4d1d50>"
      ]
     },
     "metadata": {},
     "output_type": "display_data"
    }
   ],
   "source": [
    "plt.rc('font', family='Arial', size='7')\n",
    "plot_bars(\n",
    "    [[89.17, 60.29, 40.02, 16.03, 61.04, 17.10],\n",
    "     [78.90, 71.05, 71.59, 70.12, 75.11, 63.75],\n",
    "     [76.1, 16.4, 69.8, 16.3, 25.8, 61.5]],\n",
    "    [[ 5.05,  7.00,  6.75,  7.24,  5.90,  6.41],\n",
    "     [ 5.11,  7.28,  5.44,  4.20, 10.32,  4.00],\n",
    "     [7.9, 3.2, 9.3, 3.1, 10.8, 9.6]],\n",
    "    ['Experiments on HD-sEMG DB-a', 'Experiments on NinaPro DB1', 'Experiments on NinaPro DB2'],\n",
    "    ['ConvNet', 'MLP', 'KNN', 'SVM', 'Random Forests', 'LDA'],\n",
    "    figsize=(7.20472, 7.20472/2)\n",
    ")\n",
    "plt.savefig('../cache/figures/bar-trim.eps', dpi=150, bbox_inches='tight', pad_inches=0.05)"
   ]
  },
  {
   "cell_type": "markdown",
   "metadata": {},
   "source": [
    "## 科技报告"
   ]
  },
  {
   "cell_type": "code",
   "execution_count": 11,
   "metadata": {
    "collapsed": false
   },
   "outputs": [
    {
     "data": {
      "image/png": "[encoded data removed]",
      "text/plain": [
       "<matplotlib.figure.Figure at 0x7f229b77a1d0>"
      ]
     },
     "metadata": {},
     "output_type": "display_data"
    }
   ],
   "source": [
    "#plt.rc('font', family='Times New Roman')\n",
    "plt.rc('font', family='Helvetica', size='7')\n",
    "plot_bars(\n",
    "    [[89.17, 60.29, 40.02, 16.03, 61.04, 17.10],\n",
    "     [30.5, 28.3, 21.0, 14.1, 25.0, 13.8]],\n",
    "    [[ 5.05,  7.00,  6.75,  7.24,  5.90,  6.41],\n",
    "     [7.9, 7.3, 3.5, 1.0, 3.4, 1.1]],\n",
    "    ['Intra-subject', 'Inter-subject'],\n",
    "    ['ConvNet', 'MLP', 'KNN', 'SVM', 'Random Forests', 'LDA'],\n",
    "    figsize=(7.20472, 7.20472/2)\n",
    ")\n",
    "plt.savefig('../cache/figures/report-bar.png', dpi=150, bbox_inches='tight', pad_inches=0.05)"
   ]
  },
  {
   "cell_type": "markdown",
   "metadata": {},
   "source": [
    "## Playground"
   ]
  },
  {
   "cell_type": "code",
   "execution_count": 17,
   "metadata": {
    "collapsed": false
   },
   "outputs": [
    {
     "data": {
      "text/plain": [
       "(0.16445749999999998, 0.031679448286704742)"
      ]
     },
     "execution_count": 17,
     "metadata": {},
     "output_type": "execute_result"
    }
   ],
   "source": [
    "a = np.loadtxt('../foo')\n",
    "np.mean(a), np.std(a)"
   ]
  }
 ],
 "metadata": {
  "kernelspec": {
   "display_name": "Python 2",
   "language": "python",
   "name": "python2"
  },
  "language_info": {
   "codemirror_mode": {
    "name": "ipython",
    "version": 2
   },
   "file_extension": ".py",
   "mimetype": "text/x-python",
   "name": "python",
   "nbconvert_exporter": "python",
   "pygments_lexer": "ipython2",
   "version": "2.7.6"
  }
 },
 "nbformat": 4,
 "nbformat_minor": 0
}
